{
 "cells": [
  {
   "cell_type": "code",
   "execution_count": 1,
   "metadata": {},
   "outputs": [],
   "source": [
    "#정제(cleaning)"
   ]
  },
  {
   "cell_type": "code",
   "execution_count": 5,
   "metadata": {},
   "outputs": [
    {
     "name": "stdout",
     "output_type": "stream",
     "text": [
      "원문: I was wondering if anyone out there could enlighten me on this car.\n",
      "제거:  was wondering anyone out there could enlighten this car.\n"
     ]
    }
   ],
   "source": [
    "#짧은 단어 삭제\n",
    "import re\n",
    "text = \"I was wondering if anyone out there could enlighten me on this car.\"\n",
    "print(\"원문:\", text)\n",
    "shortword = re.compile(r'\\W*\\b\\w{1,2}\\b') #정규표현식\n",
    "print(\"제거:\", shortword.sub('', text))"
   ]
  },
  {
   "cell_type": "code",
   "execution_count": null,
   "metadata": {},
   "outputs": [],
   "source": []
  },
  {
   "cell_type": "code",
   "execution_count": 34,
   "metadata": {},
   "outputs": [
    {
     "name": "stdout",
     "output_type": "stream",
     "text": [
      "[('I', 'PRP'), ('am', 'VBP'), ('actively', 'RB'), ('looking', 'VBG'), ('for', 'IN'), ('Ph.D.', 'NNP'), ('students', 'NNS'), ('.', '.'), ('and', 'CC'), ('you', 'PRP'), ('are', 'VBP'), ('a', 'DT'), ('Ph.D.', 'NNP'), ('student', 'NN'), ('.', '.')]\n"
     ]
    }
   ],
   "source": [
    "#태깅 결과에서 짧은 단어 삭제\n",
    "from nltk.tag import pos_tag\n",
    "text=\"I am actively looking for Ph.D. students. and you are a Ph.D. student.\"\n",
    "x=word_tokenize(text)\n",
    "result = pos_tag(x)\n",
    "print(result)"
   ]
  },
  {
   "cell_type": "code",
   "execution_count": 32,
   "metadata": {},
   "outputs": [
    {
     "name": "stdout",
     "output_type": "stream",
     "text": [
      "[('am', 'VBP'), ('actively', 'RB'), ('looking', 'VBG'), ('for', 'IN'), ('Ph.D.', 'NNP'), ('students', 'NNS'), ('and', 'CC'), ('you', 'PRP'), ('are', 'VBP'), ('Ph.D.', 'NNP'), ('student', 'NN')]\n"
     ]
    }
   ],
   "source": [
    "cleaned = []\n",
    "for word, pos in result:\n",
    "    if len(word) >= 2: #크기 지정\n",
    "        cleaned.append((word,pos))\n",
    "print(cleaned)"
   ]
  },
  {
   "cell_type": "code",
   "execution_count": 39,
   "metadata": {},
   "outputs": [],
   "source": [
    "#다음은 위 코드와 동일\n",
    "#cleaned = [ (word,pos) for word,pos in result if len(word)>=2 ]"
   ]
  },
  {
   "cell_type": "code",
   "execution_count": 40,
   "metadata": {},
   "outputs": [
    {
     "name": "stdout",
     "output_type": "stream",
     "text": [
      "[('am', 'VBP'), ('actively', 'RB'), ('looking', 'VBG'), ('for', 'IN'), ('Ph.D.', 'NNP'), ('students', 'NNS'), ('and', 'CC'), ('you', 'PRP'), ('are', 'VBP'), ('Ph.D.', 'NNP'), ('student', 'NN')]\n"
     ]
    }
   ],
   "source": [
    "print(cleaned)"
   ]
  },
  {
   "cell_type": "code",
   "execution_count": null,
   "metadata": {},
   "outputs": [],
   "source": []
  },
  {
   "cell_type": "code",
   "execution_count": 93,
   "metadata": {},
   "outputs": [],
   "source": [
    "#pandas 를 이용한 정규표현식 처리\n",
    "text = '\"춘향전\" 패러디(parody) 소설과 1955년 영화 <춘향전> -전후(戰後) 문화 변동과 \"전통\"의 발견'\n",
    "\n",
    "import pandas as pd\n",
    "df = pd.DataFrame([text], columns=['제목'])"
   ]
  },
  {
   "cell_type": "code",
   "execution_count": 81,
   "metadata": {},
   "outputs": [
    {
     "data": {
      "text/plain": [
       "0    \"춘향전\" 패러디(parody) 소설과 1955년 영화 <춘향전> -전후(戰後) 문...\n",
       "Name: 제목, dtype: object"
      ]
     },
     "execution_count": 81,
     "metadata": {},
     "output_type": "execute_result"
    }
   ],
   "source": [
    "df['제목']"
   ]
  },
  {
   "cell_type": "code",
   "execution_count": 113,
   "metadata": {},
   "outputs": [
    {
     "name": "stdout",
     "output_type": "stream",
     "text": [
      "0     춘향전 패러디 parody 소설과 1955년 영화 춘향전 전후 문화 변동과 전통 ...\n",
      "Name: 제목, dtype: object\n"
     ]
    }
   ],
   "source": [
    "result = df['제목'].str.replace(pat=r'[^가-히A-Za-z0-9 ]', repl= r' ', regex=True)  # 한글, 영어, 숫자, 공백만 남김\n",
    "result = result.str.replace(pat=r' +', repl= r' ', regex=True) #연속공백을 공백 하나만 남김\n",
    "print(result)"
   ]
  },
  {
   "cell_type": "code",
   "execution_count": 114,
   "metadata": {},
   "outputs": [
    {
     "name": "stdout",
     "output_type": "stream",
     "text": [
      "0    춘향전 패러디 소설과 1955년 영화 춘향전 전후 문화 변동과 전통의 발견\n",
      "Name: 제목, dtype: object\n"
     ]
    }
   ],
   "source": [
    "result = df['제목'].str.replace(pat=r'[^가-히0-9 ]', repl= r'', regex=True)  # 한글과 숫자만 남김\n",
    "print(result)"
   ]
  },
  {
   "cell_type": "code",
   "execution_count": 115,
   "metadata": {},
   "outputs": [
    {
     "name": "stdout",
     "output_type": "stream",
     "text": [
      "0    춘향전 패러디 소설과 년 영화 춘향전 전후 문화 변동과 전통의 발견\n",
      "Name: 제목, dtype: object\n"
     ]
    }
   ],
   "source": [
    "result = df['제목'].str.replace(pat=r'[^가-히 ]', repl= r'', regex=True)  # 한글만\n",
    "print(result)"
   ]
  },
  {
   "cell_type": "code",
   "execution_count": null,
   "metadata": {},
   "outputs": [],
   "source": []
  }
 ],
 "metadata": {
  "kernelspec": {
   "display_name": "Python 3",
   "language": "python",
   "name": "python3"
  },
  "language_info": {
   "codemirror_mode": {
    "name": "ipython",
    "version": 3
   },
   "file_extension": ".py",
   "mimetype": "text/x-python",
   "name": "python",
   "nbconvert_exporter": "python",
   "pygments_lexer": "ipython3",
   "version": "3.8.5"
  }
 },
 "nbformat": 4,
 "nbformat_minor": 4
}
